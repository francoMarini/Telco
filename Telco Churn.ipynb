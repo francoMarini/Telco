{
 "cells": [
  {
   "cell_type": "markdown",
   "metadata": {},
   "source": [
    "### Dipendenze"
   ]
  },
  {
   "cell_type": "code",
   "execution_count": 1,
   "metadata": {},
   "outputs": [],
   "source": [
    "#!pip install -r requirements.txt\n",
    "\n",
    "\n"
   ]
  },
  {
   "cell_type": "markdown",
   "metadata": {},
   "source": [
    "# Librerie "
   ]
  },
  {
   "cell_type": "code",
   "execution_count": 2,
   "metadata": {},
   "outputs": [],
   "source": [
    "import numpy as np \n",
    "import pandas as pd \n",
    "import matplotlib.pyplot as plt\n",
    "from sklearn.preprocessing import LabelEncoder\n",
    "from sklearn.model_selection import train_test_split\n",
    "from sklearn.metrics import plot_confusion_matrix\n",
    "from sklearn.linear_model import LogisticRegression\n",
    "from sklearn.metrics import accuracy_score"
   ]
  },
  {
   "cell_type": "markdown",
   "metadata": {},
   "source": [
    "### Importo Dataset "
   ]
  },
  {
   "cell_type": "code",
   "execution_count": 3,
   "metadata": {},
   "outputs": [],
   "source": [
    "data=pd.read_csv('Telco.csv')"
   ]
  },
  {
   "cell_type": "markdown",
   "metadata": {},
   "source": [
    "### Esploro il Dataset "
   ]
  },
  {
   "cell_type": "code",
   "execution_count": 4,
   "metadata": {},
   "outputs": [
    {
     "data": {
      "text/plain": [
       "['Churn',\n",
       " 'customerID',\n",
       " 'gender',\n",
       " 'SeniorCitizen',\n",
       " 'Partner',\n",
       " 'Dependents',\n",
       " 'tenure',\n",
       " 'PhoneService',\n",
       " 'MultipleLines',\n",
       " 'InternetService',\n",
       " 'OnlineSecurity',\n",
       " 'OnlineBackup',\n",
       " 'DeviceProtection',\n",
       " 'TechSupport',\n",
       " 'StreamingTV',\n",
       " 'StreamingMovies',\n",
       " 'Contract',\n",
       " 'PaperlessBilling',\n",
       " 'PaymentMethod',\n",
       " 'MonthlyCharges',\n",
       " 'TotalCharges']"
      ]
     },
     "execution_count": 4,
     "metadata": {},
     "output_type": "execute_result"
    }
   ],
   "source": [
    "#Features\n",
    "list(data)"
   ]
  },
  {
   "cell_type": "code",
   "execution_count": 5,
   "metadata": {},
   "outputs": [
    {
     "name": "stdout",
     "output_type": "stream",
     "text": [
      "Churn               0\n",
      "customerID          0\n",
      "gender              0\n",
      "SeniorCitizen       0\n",
      "Partner             0\n",
      "Dependents          0\n",
      "tenure              0\n",
      "PhoneService        0\n",
      "MultipleLines       0\n",
      "InternetService     0\n",
      "OnlineSecurity      0\n",
      "OnlineBackup        0\n",
      "DeviceProtection    0\n",
      "TechSupport         0\n",
      "StreamingTV         0\n",
      "StreamingMovies     0\n",
      "Contract            0\n",
      "PaperlessBilling    0\n",
      "PaymentMethod       0\n",
      "MonthlyCharges      0\n",
      "TotalCharges        0\n",
      "dtype: int64\n"
     ]
    }
   ],
   "source": [
    "#Controllo quanti sono i valori mancanti\n",
    "print(data.isnull().sum())"
   ]
  },
  {
   "cell_type": "code",
   "execution_count": 6,
   "metadata": {},
   "outputs": [
    {
     "data": {
      "text/html": [
       "<div>\n",
       "<style scoped>\n",
       "    .dataframe tbody tr th:only-of-type {\n",
       "        vertical-align: middle;\n",
       "    }\n",
       "\n",
       "    .dataframe tbody tr th {\n",
       "        vertical-align: top;\n",
       "    }\n",
       "\n",
       "    .dataframe thead th {\n",
       "        text-align: right;\n",
       "    }\n",
       "</style>\n",
       "<table border=\"1\" class=\"dataframe\">\n",
       "  <thead>\n",
       "    <tr style=\"text-align: right;\">\n",
       "      <th></th>\n",
       "      <th>Churn</th>\n",
       "      <th>customerID</th>\n",
       "      <th>gender</th>\n",
       "      <th>SeniorCitizen</th>\n",
       "      <th>Partner</th>\n",
       "      <th>Dependents</th>\n",
       "      <th>tenure</th>\n",
       "      <th>PhoneService</th>\n",
       "      <th>MultipleLines</th>\n",
       "      <th>InternetService</th>\n",
       "      <th>OnlineSecurity</th>\n",
       "      <th>OnlineBackup</th>\n",
       "      <th>DeviceProtection</th>\n",
       "      <th>TechSupport</th>\n",
       "      <th>StreamingTV</th>\n",
       "      <th>StreamingMovies</th>\n",
       "      <th>Contract</th>\n",
       "      <th>PaperlessBilling</th>\n",
       "      <th>PaymentMethod</th>\n",
       "      <th>MonthlyCharges</th>\n",
       "      <th>TotalCharges</th>\n",
       "    </tr>\n",
       "  </thead>\n",
       "  <tbody>\n",
       "    <tr>\n",
       "      <th>0</th>\n",
       "      <td>No</td>\n",
       "      <td>4223-BKEOR</td>\n",
       "      <td>Female</td>\n",
       "      <td>0</td>\n",
       "      <td>No</td>\n",
       "      <td>Yes</td>\n",
       "      <td>21</td>\n",
       "      <td>Yes</td>\n",
       "      <td>No</td>\n",
       "      <td>DSL</td>\n",
       "      <td>Yes</td>\n",
       "      <td>No</td>\n",
       "      <td>Yes</td>\n",
       "      <td>No</td>\n",
       "      <td>No</td>\n",
       "      <td>Yes</td>\n",
       "      <td>One year</td>\n",
       "      <td>No</td>\n",
       "      <td>Mailed check</td>\n",
       "      <td>64.85</td>\n",
       "      <td>1336.8</td>\n",
       "    </tr>\n",
       "    <tr>\n",
       "      <th>1</th>\n",
       "      <td>No</td>\n",
       "      <td>6035-RIIOM</td>\n",
       "      <td>Female</td>\n",
       "      <td>0</td>\n",
       "      <td>No</td>\n",
       "      <td>No</td>\n",
       "      <td>54</td>\n",
       "      <td>Yes</td>\n",
       "      <td>Yes</td>\n",
       "      <td>Fiber optic</td>\n",
       "      <td>No</td>\n",
       "      <td>Yes</td>\n",
       "      <td>No</td>\n",
       "      <td>No</td>\n",
       "      <td>Yes</td>\n",
       "      <td>Yes</td>\n",
       "      <td>Two year</td>\n",
       "      <td>Yes</td>\n",
       "      <td>Bank transfer (automatic)</td>\n",
       "      <td>97.20</td>\n",
       "      <td>5129.45</td>\n",
       "    </tr>\n",
       "    <tr>\n",
       "      <th>2</th>\n",
       "      <td>Yes</td>\n",
       "      <td>3797-VTIDR</td>\n",
       "      <td>Male</td>\n",
       "      <td>0</td>\n",
       "      <td>Yes</td>\n",
       "      <td>No</td>\n",
       "      <td>1</td>\n",
       "      <td>No</td>\n",
       "      <td>No phone service</td>\n",
       "      <td>DSL</td>\n",
       "      <td>No</td>\n",
       "      <td>No</td>\n",
       "      <td>No</td>\n",
       "      <td>No</td>\n",
       "      <td>No</td>\n",
       "      <td>No</td>\n",
       "      <td>Month-to-month</td>\n",
       "      <td>Yes</td>\n",
       "      <td>Electronic check</td>\n",
       "      <td>23.45</td>\n",
       "      <td>23.45</td>\n",
       "    </tr>\n",
       "    <tr>\n",
       "      <th>3</th>\n",
       "      <td>Yes</td>\n",
       "      <td>2568-BRGYX</td>\n",
       "      <td>Male</td>\n",
       "      <td>0</td>\n",
       "      <td>No</td>\n",
       "      <td>No</td>\n",
       "      <td>4</td>\n",
       "      <td>Yes</td>\n",
       "      <td>No</td>\n",
       "      <td>Fiber optic</td>\n",
       "      <td>No</td>\n",
       "      <td>No</td>\n",
       "      <td>No</td>\n",
       "      <td>No</td>\n",
       "      <td>No</td>\n",
       "      <td>No</td>\n",
       "      <td>Month-to-month</td>\n",
       "      <td>Yes</td>\n",
       "      <td>Electronic check</td>\n",
       "      <td>70.20</td>\n",
       "      <td>237.95</td>\n",
       "    </tr>\n",
       "    <tr>\n",
       "      <th>4</th>\n",
       "      <td>No</td>\n",
       "      <td>2775-SEFEE</td>\n",
       "      <td>Male</td>\n",
       "      <td>0</td>\n",
       "      <td>No</td>\n",
       "      <td>Yes</td>\n",
       "      <td>0</td>\n",
       "      <td>Yes</td>\n",
       "      <td>Yes</td>\n",
       "      <td>DSL</td>\n",
       "      <td>Yes</td>\n",
       "      <td>Yes</td>\n",
       "      <td>No</td>\n",
       "      <td>Yes</td>\n",
       "      <td>No</td>\n",
       "      <td>No</td>\n",
       "      <td>Two year</td>\n",
       "      <td>Yes</td>\n",
       "      <td>Bank transfer (automatic)</td>\n",
       "      <td>61.90</td>\n",
       "      <td></td>\n",
       "    </tr>\n",
       "  </tbody>\n",
       "</table>\n",
       "</div>"
      ],
      "text/plain": [
       "  Churn  customerID  gender  SeniorCitizen Partner Dependents  tenure  \\\n",
       "0    No  4223-BKEOR  Female              0      No        Yes      21   \n",
       "1    No  6035-RIIOM  Female              0      No         No      54   \n",
       "2   Yes  3797-VTIDR    Male              0     Yes         No       1   \n",
       "3   Yes  2568-BRGYX    Male              0      No         No       4   \n",
       "4    No  2775-SEFEE    Male              0      No        Yes       0   \n",
       "\n",
       "  PhoneService     MultipleLines InternetService OnlineSecurity OnlineBackup  \\\n",
       "0          Yes                No             DSL            Yes           No   \n",
       "1          Yes               Yes     Fiber optic             No          Yes   \n",
       "2           No  No phone service             DSL             No           No   \n",
       "3          Yes                No     Fiber optic             No           No   \n",
       "4          Yes               Yes             DSL            Yes          Yes   \n",
       "\n",
       "  DeviceProtection TechSupport StreamingTV StreamingMovies        Contract  \\\n",
       "0              Yes          No          No             Yes        One year   \n",
       "1               No          No         Yes             Yes        Two year   \n",
       "2               No          No          No              No  Month-to-month   \n",
       "3               No          No          No              No  Month-to-month   \n",
       "4               No         Yes          No              No        Two year   \n",
       "\n",
       "  PaperlessBilling              PaymentMethod  MonthlyCharges TotalCharges  \n",
       "0               No               Mailed check           64.85       1336.8  \n",
       "1              Yes  Bank transfer (automatic)           97.20      5129.45  \n",
       "2              Yes           Electronic check           23.45        23.45  \n",
       "3              Yes           Electronic check           70.20       237.95  \n",
       "4              Yes  Bank transfer (automatic)           61.90               "
      ]
     },
     "execution_count": 6,
     "metadata": {},
     "output_type": "execute_result"
    }
   ],
   "source": [
    "#Rapido sguardo al Dataset\n",
    "pd.set_option('max_columns', None)\n",
    "data.head()"
   ]
  },
  {
   "cell_type": "code",
   "execution_count": 7,
   "metadata": {},
   "outputs": [
    {
     "name": "stdout",
     "output_type": "stream",
     "text": [
      "Features:  Churn\n",
      "No     4138\n",
      "Yes    1496\n",
      "Name: Churn, dtype: int64\n",
      "\n",
      "*****************\n",
      "\n",
      "Features:  customerID\n",
      "9091-WTUUY    1\n",
      "4510-PYUSH    1\n",
      "2012-NWRPA    1\n",
      "4693-VWVBO    1\n",
      "8902-ZEOVF    1\n",
      "             ..\n",
      "5832-TRLPB    1\n",
      "1403-LKLIK    1\n",
      "6674-KVJHG    1\n",
      "1550-EENBN    1\n",
      "3097-FQTVJ    1\n",
      "Name: customerID, Length: 5634, dtype: int64\n",
      "\n",
      "*****************\n",
      "\n",
      "Features:  gender\n",
      "Male      2887\n",
      "Female    2747\n",
      "Name: gender, dtype: int64\n",
      "\n",
      "*****************\n",
      "\n",
      "Features:  SeniorCitizen\n",
      "0    4728\n",
      "1     906\n",
      "Name: SeniorCitizen, dtype: int64\n",
      "\n",
      "*****************\n",
      "\n",
      "Features:  Partner\n",
      "No     2904\n",
      "Yes    2730\n",
      "Name: Partner, dtype: int64\n",
      "\n",
      "*****************\n",
      "\n",
      "Features:  Dependents\n",
      "No     3951\n",
      "Yes    1683\n",
      "Name: Dependents, dtype: int64\n",
      "\n",
      "*****************\n",
      "\n",
      "Features:  tenure\n",
      "1     476\n",
      "72    286\n",
      "2     174\n",
      "3     161\n",
      "4     147\n",
      "     ... \n",
      "44     46\n",
      "39     43\n",
      "36     43\n",
      "45     43\n",
      "0      10\n",
      "Name: tenure, Length: 73, dtype: int64\n",
      "\n",
      "*****************\n",
      "\n",
      "Features:  PhoneService\n",
      "Yes    5082\n",
      "No      552\n",
      "Name: PhoneService, dtype: int64\n",
      "\n",
      "*****************\n",
      "\n",
      "Features:  MultipleLines\n",
      "No                  2685\n",
      "Yes                 2397\n",
      "No phone service     552\n",
      "Name: MultipleLines, dtype: int64\n",
      "\n",
      "*****************\n",
      "\n",
      "Features:  InternetService\n",
      "Fiber optic    2481\n",
      "DSL            1939\n",
      "No             1214\n",
      "Name: InternetService, dtype: int64\n",
      "\n",
      "*****************\n",
      "\n",
      "Features:  OnlineSecurity\n",
      "No                     2810\n",
      "Yes                    1610\n",
      "No internet service    1214\n",
      "Name: OnlineSecurity, dtype: int64\n",
      "\n",
      "*****************\n",
      "\n",
      "Features:  OnlineBackup\n",
      "No                     2448\n",
      "Yes                    1972\n",
      "No internet service    1214\n",
      "Name: OnlineBackup, dtype: int64\n",
      "\n",
      "*****************\n",
      "\n",
      "Features:  DeviceProtection\n",
      "No                     2489\n",
      "Yes                    1931\n",
      "No internet service    1214\n",
      "Name: DeviceProtection, dtype: int64\n",
      "\n",
      "*****************\n",
      "\n",
      "Features:  TechSupport\n",
      "No                     2791\n",
      "Yes                    1629\n",
      "No internet service    1214\n",
      "Name: TechSupport, dtype: int64\n",
      "\n",
      "*****************\n",
      "\n",
      "Features:  StreamingTV\n",
      "No                     2239\n",
      "Yes                    2181\n",
      "No internet service    1214\n",
      "Name: StreamingTV, dtype: int64\n",
      "\n",
      "*****************\n",
      "\n",
      "Features:  StreamingMovies\n",
      "No                     2223\n",
      "Yes                    2197\n",
      "No internet service    1214\n",
      "Name: StreamingMovies, dtype: int64\n",
      "\n",
      "*****************\n",
      "\n",
      "Features:  Contract\n",
      "Month-to-month    3083\n",
      "Two year          1339\n",
      "One year          1212\n",
      "Name: Contract, dtype: int64\n",
      "\n",
      "*****************\n",
      "\n",
      "Features:  PaperlessBilling\n",
      "Yes    3325\n",
      "No     2309\n",
      "Name: PaperlessBilling, dtype: int64\n",
      "\n",
      "*****************\n",
      "\n",
      "Features:  PaymentMethod\n",
      "Electronic check             1887\n",
      "Mailed check                 1282\n",
      "Bank transfer (automatic)    1238\n",
      "Credit card (automatic)      1227\n",
      "Name: PaymentMethod, dtype: int64\n",
      "\n",
      "*****************\n",
      "\n",
      "Features:  MonthlyCharges\n",
      "20.05     49\n",
      "19.95     36\n",
      "19.70     35\n",
      "19.85     35\n",
      "19.80     34\n",
      "          ..\n",
      "45.50      1\n",
      "113.00     1\n",
      "29.25      1\n",
      "87.75      1\n",
      "72.15      1\n",
      "Name: MonthlyCharges, Length: 1495, dtype: int64\n",
      "\n",
      "*****************\n",
      "\n",
      "Features:  TotalCharges\n",
      "20.2       10\n",
      "           10\n",
      "19.75       8\n",
      "20.05       6\n",
      "19.55       6\n",
      "           ..\n",
      "6792.45     1\n",
      "2730.85     1\n",
      "4946.7      1\n",
      "799         1\n",
      "814.75      1\n",
      "Name: TotalCharges, Length: 5300, dtype: int64\n",
      "\n",
      "*****************\n",
      "\n"
     ]
    }
   ],
   "source": [
    "#Analizzo i valori che compaiono per ogni feature\n",
    "for c in data.columns:\n",
    "    print (\"Features: \", c)\n",
    "    print(data[c].value_counts())\n",
    "    print(\"\\n*****************\\n\")"
   ]
  },
  {
   "cell_type": "code",
   "execution_count": 8,
   "metadata": {},
   "outputs": [
    {
     "name": "stdout",
     "output_type": "stream",
     "text": [
      "Valori mancanti per la feature 'TotalCharges': 10\n"
     ]
    }
   ],
   "source": [
    "#Ci sono valori mancati per la feature 'TotalCharges'\n",
    "print(\"Valori mancanti per la feature 'TotalCharges':\", (data[\"TotalCharges\"]==\" \").sum())"
   ]
  },
  {
   "cell_type": "code",
   "execution_count": 9,
   "metadata": {},
   "outputs": [],
   "source": [
    "#Sostituisco i valori mancanti con 'Nan': in questo modo riesco a gestirli più facilmente\n",
    "data.TotalCharges= data[\"TotalCharges\"].replace(' ',np.NaN)"
   ]
  },
  {
   "cell_type": "code",
   "execution_count": 10,
   "metadata": {},
   "outputs": [
    {
     "name": "stdout",
     "output_type": "stream",
     "text": [
      "Churn                0\n",
      "customerID           0\n",
      "gender               0\n",
      "SeniorCitizen        0\n",
      "Partner              0\n",
      "Dependents           0\n",
      "tenure               0\n",
      "PhoneService         0\n",
      "MultipleLines        0\n",
      "InternetService      0\n",
      "OnlineSecurity       0\n",
      "OnlineBackup         0\n",
      "DeviceProtection     0\n",
      "TechSupport          0\n",
      "StreamingTV          0\n",
      "StreamingMovies      0\n",
      "Contract             0\n",
      "PaperlessBilling     0\n",
      "PaymentMethod        0\n",
      "MonthlyCharges       0\n",
      "TotalCharges        10\n",
      "dtype: int64\n"
     ]
    }
   ],
   "source": [
    "#Controlliamo quanti sono i valori NaN\n",
    "print(data.isnull().sum())"
   ]
  },
  {
   "cell_type": "code",
   "execution_count": 11,
   "metadata": {},
   "outputs": [],
   "source": [
    "#Converto i 'TotalCharges' in float, per poter calcolarne la media \n",
    "data[\"TotalCharges\"] = pd.to_numeric(data[\"TotalCharges\"])\n",
    "#Sostituisco i NaN con la Media\n",
    "data['TotalCharges'].fillna(data['TotalCharges'].mean(), inplace=True)"
   ]
  },
  {
   "cell_type": "markdown",
   "metadata": {},
   "source": [
    "### Feature Selection "
   ]
  },
  {
   "cell_type": "code",
   "execution_count": 12,
   "metadata": {},
   "outputs": [],
   "source": [
    "#L'id del cliente non è utile per la nostra previsione\n",
    "data = data.drop(['customerID'], axis=1)"
   ]
  },
  {
   "cell_type": "markdown",
   "metadata": {},
   "source": [
    "### Mapping "
   ]
  },
  {
   "cell_type": "code",
   "execution_count": 13,
   "metadata": {},
   "outputs": [],
   "source": [
    "#Encode\n",
    "\n",
    "labelEncoder_X = LabelEncoder()\n",
    "\n",
    "data['gender']=labelEncoder_X.fit_transform(data['gender'])\n",
    "data['Partner']=labelEncoder_X.fit_transform(data['Partner'])\n",
    "data['Dependents']=labelEncoder_X.fit_transform(data['Dependents'])\n",
    "data['PhoneService']=labelEncoder_X.fit_transform(data['PhoneService'])\n",
    "data['MultipleLines']=labelEncoder_X.fit_transform(data['MultipleLines'])\n",
    "data['InternetService']=labelEncoder_X.fit_transform(data['InternetService'])\n",
    "data['OnlineSecurity']=labelEncoder_X.fit_transform(data['OnlineSecurity'])\n",
    "data['OnlineBackup']=labelEncoder_X.fit_transform(data['OnlineBackup'])\n",
    "data['DeviceProtection']=labelEncoder_X.fit_transform(data['DeviceProtection'])\n",
    "data['TechSupport']=labelEncoder_X.fit_transform(data['TechSupport'])\n",
    "data['StreamingTV']=labelEncoder_X.fit_transform(data['StreamingTV'])\n",
    "data['StreamingMovies']=labelEncoder_X.fit_transform(data['StreamingMovies'])\n",
    "data['Contract']=labelEncoder_X.fit_transform(data['Contract'])\n",
    "data['PaperlessBilling']=labelEncoder_X.fit_transform(data['PaperlessBilling'])\n",
    "data['PaymentMethod']=labelEncoder_X.fit_transform(data['PaymentMethod'])\n",
    "\n",
    "#map each Churn value to a numerical value\n",
    "churn_mapping = {\"Yes\": 1,\"No\": 0}\n",
    "data['Churn'] = data['Churn'].map(churn_mapping)"
   ]
  },
  {
   "cell_type": "markdown",
   "metadata": {},
   "source": [
    "### Separo il Dataset dalle Label "
   ]
  },
  {
   "cell_type": "code",
   "execution_count": 14,
   "metadata": {},
   "outputs": [],
   "source": [
    "data_y = data['Churn']           # vector of labels (dependent variable)\n",
    "data_x = data.drop(['Churn'], axis=1)      # remove the dependent variable from the dataframe X"
   ]
  },
  {
   "cell_type": "markdown",
   "metadata": {},
   "source": [
    "### Split fra Train_Set e Test_Set"
   ]
  },
  {
   "cell_type": "code",
   "execution_count": 15,
   "metadata": {},
   "outputs": [],
   "source": [
    "X_train, X_test, y_train, y_test = train_test_split(data_x, data_y, random_state=42 , test_size = 0.2 )"
   ]
  },
  {
   "cell_type": "markdown",
   "metadata": {},
   "source": [
    "# Modello"
   ]
  },
  {
   "cell_type": "code",
   "execution_count": 16,
   "metadata": {},
   "outputs": [
    {
     "name": "stdout",
     "output_type": "stream",
     "text": [
      "Accuracy= 79.68\n"
     ]
    },
    {
     "data": {
      "image/png": "[encoded data removed]",
      "text/plain": [
       "<Figure size 432x288 with 2 Axes>"
      ]
     },
     "metadata": {
      "needs_background": "light"
     },
     "output_type": "display_data"
    }
   ],
   "source": [
    "#Logistic Regression\n",
    "\n",
    "model = LogisticRegression(max_iter = 500000)\n",
    "model.fit(X_train, y_train)\n",
    "y_pred = model.predict(X_test)\n",
    "acc_logregress = round(accuracy_score(y_test, y_pred) * 100, 2)\n",
    "print(\"Accuracy=\", acc_logregress)\n",
    "\n",
    "\n",
    "plot_confusion_matrix(model, X_test, y_test, values_format='n', display_labels=['No','Yes'])\n",
    "plt.show()"
   ]
  },
  {
   "cell_type": "code",
   "execution_count": null,
   "metadata": {},
   "outputs": [],
   "source": []
  },
  {
   "cell_type": "code",
   "execution_count": null,
   "metadata": {},
   "outputs": [],
   "source": []
  },
  {
   "cell_type": "code",
   "execution_count": null,
   "metadata": {},
   "outputs": [],
   "source": []
  },
  {
   "cell_type": "code",
   "execution_count": null,
   "metadata": {},
   "outputs": [],
   "source": []
  }
 ],
 "metadata": {
  "kernelspec": {
   "display_name": "Python 3",
   "language": "python",
   "name": "python3"
  },
  "language_info": {
   "codemirror_mode": {
    "name": "ipython",
    "version": 3
   },
   "file_extension": ".py",
   "mimetype": "text/x-python",
   "name": "python",
   "nbconvert_exporter": "python",
   "pygments_lexer": "ipython3",
   "version": "3.7.6"
  }
 },
 "nbformat": 4,
 "nbformat_minor": 4
}
